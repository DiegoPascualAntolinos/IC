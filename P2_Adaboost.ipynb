{
  "nbformat": 4,
  "nbformat_minor": 0,
  "metadata": {
    "colab": {
      "name": "P2_Adaboost.ipynb",
      "version": "0.3.2",
      "provenance": [],
      "collapsed_sections": [],
      "include_colab_link": true
    },
    "kernelspec": {
      "name": "python3",
      "display_name": "Python 3"
    }
  },
  "cells": [
    {
      "cell_type": "markdown",
      "metadata": {
        "id": "view-in-github",
        "colab_type": "text"
      },
      "source": [
        "<a href=\"https://colab.research.google.com/github/DiegoPascualAntolinos/IC/blob/master/P2_Adaboost.ipynb\" target=\"_parent\"><img src=\"https://colab.research.google.com/assets/colab-badge.svg\" alt=\"Open In Colab\"/></a>"
      ]
    },
    {
      "cell_type": "markdown",
      "metadata": {
        "id": "L4JCfeNYIFAA",
        "colab_type": "text"
      },
      "source": [
        " # Práctica 2 de Sistemas Inteligentes.\n",
        "\n",
        " Clasificación de imagenes fashion-MNIST mediante AdaBoost.\n",
        " \n",
        "* La forma más sencilla de clasificar objetos distribuidos en un espacio es dividir el espacio en dos partes y especificar que los objetos que quedan a un lado se van a clasificar según una clase y los objetos que quedan al otro lado según la otra clase. Esto es posible realizarlo de manera muy sencilla utilizando un umbral. Los umbrales pueden ser positivos o negativos y especifican para un determinado pixel (solo uno) el rango aceptable para el mismo. \n",
        "\n",
        "En este Notebook se incluye el código de Adaboost y la implementación de un clasificador débil de umbral. **Se debe implementar el clasificador de débil de hiperplanos y completar la sección de experimentación**.\n",
        "\n",
        "\n"
      ]
    },
    {
      "cell_type": "markdown",
      "metadata": {
        "id": "AjK5sSxrEX_C",
        "colab_type": "text"
      },
      "source": [
        "Incluimos las librerias necesarias para obtener la base de datos, y realizar representaciones gráficas"
      ]
    },
    {
      "cell_type": "code",
      "metadata": {
        "id": "LOvJSoe_EYy9",
        "colab_type": "code",
        "colab": {}
      },
      "source": [
        "%matplotlib inline\n",
        "import numpy as np\n",
        "import matplotlib.pyplot as plt \n",
        "import os\n"
      ],
      "execution_count": 0,
      "outputs": []
    },
    {
      "cell_type": "code",
      "metadata": {
        "id": "6We615TLEZ_O",
        "colab_type": "code",
        "colab": {}
      },
      "source": [
        "from keras.datasets import fashion_mnist\n",
        "(x_train, y_train), (x_test, y_test) = fashion_mnist.load_data()"
      ],
      "execution_count": 0,
      "outputs": []
    },
    {
      "cell_type": "markdown",
      "metadata": {
        "id": "nbyQe1ThIYtJ",
        "colab_type": "text"
      },
      "source": [
        "Observamos el tamaño de la libreria cargada. Utilizaremos solo las primeras 4000 imágenes para coincidir con la parte básica de la práctica 2 desarrollada en java"
      ]
    },
    {
      "cell_type": "code",
      "metadata": {
        "id": "snAWNKRlEr8u",
        "colab_type": "code",
        "outputId": "f39e83cc-dae4-47fd-fe40-5aff52ca4af7",
        "colab": {
          "base_uri": "https://localhost:8080/",
          "height": 35
        }
      },
      "source": [
        "x_train.shape,y_train.shape"
      ],
      "execution_count": 17,
      "outputs": [
        {
          "output_type": "execute_result",
          "data": {
            "text/plain": [
              "((60000, 28, 28), (60000,))"
            ]
          },
          "metadata": {
            "tags": []
          },
          "execution_count": 17
        }
      ]
    },
    {
      "cell_type": "markdown",
      "metadata": {
        "id": "mmeIs667ItKF",
        "colab_type": "text"
      },
      "source": [
        "En google colab (jupyter notebook) es muy fácil poder visualizar gráficas e imágenes. Vamos a ver el segundo elemento del conjunto de entrenamiento:"
      ]
    },
    {
      "cell_type": "code",
      "metadata": {
        "id": "3AK_BcCdE2ih",
        "colab_type": "code",
        "outputId": "8f16d560-5ae1-4690-8a1d-b82fcdef3cae",
        "colab": {
          "base_uri": "https://localhost:8080/",
          "height": 287
        }
      },
      "source": [
        "plt.imshow(x_train[1]),y_train[1]"
      ],
      "execution_count": 18,
      "outputs": [
        {
          "output_type": "execute_result",
          "data": {
            "text/plain": [
              "(<matplotlib.image.AxesImage at 0x7facbc8b3470>, 0)"
            ]
          },
          "metadata": {
            "tags": []
          },
          "execution_count": 18
        },
        {
          "output_type": "display_data",
          "data": {
            "image/png": "[encoded data removed]",
            "text/plain": [
              "<Figure size 432x288 with 1 Axes>"
            ]
          },
          "metadata": {
            "tags": []
          }
        }
      ]
    },
    {
      "cell_type": "markdown",
      "metadata": {
        "id": "QcRhFJHWI3jO",
        "colab_type": "text"
      },
      "source": [
        "# Algoritmo Adaboost\n",
        "A continuación se presenta una implementación del algoritmo Adaboost"
      ]
    },
    {
      "cell_type": "code",
      "metadata": {
        "id": "2IP1brcPE5GY",
        "colab_type": "code",
        "colab": {}
      },
      "source": [
        "def adaboost(X,Y,T,random_trainer_iterations,weak_generator,weak_error):\n",
        "    \n",
        "    N = len(X)\n",
        "    h = np.zeros([T, 3], dtype=np.double)\n",
        "    alpha = np.zeros(T, dtype=np.double)\n",
        "    err = np.ones(T, dtype=np.double) * np.inf\n",
        "    \n",
        "    #Distribución inicialmente uniforme\n",
        "    D = np.ones(N, dtype=np.double)/N  \n",
        "    \n",
        "    for i in range(T):\n",
        "        for rti in range(random_trainer_iterations):\n",
        "            h_tmp = weak_generator();\n",
        "            [err_tmp,y_tmp] = weak_error(h_tmp,X,Y,D)\n",
        "            if(err_tmp<err[i]):\n",
        "                h[i] = h_tmp\n",
        "                err[i] = err_tmp\n",
        "                y_t = y_tmp\n",
        "            \n",
        "        \n",
        "        alpha[i] = 0.5 * np.log((1.0 - err[i]) / err[i])\n",
        "        y_t[np.where(y_t == 0)] = -1 # y_t contiene 1 en los errores \n",
        "                                     #y -1 el los aciertos, por lo que cambiare...\n",
        "        \n",
        "        # .. el signo de y_t (se podria cambiar solo el de alpha)\n",
        "        D = np.double(D * np.exp(-alpha[i] * -y_t))  \n",
        "       \n",
        "        D = D/np.sum(D)  # Normalise reassigned weights\n",
        "        \n",
        "    return [h,alpha]   "
      ],
      "execution_count": 0,
      "outputs": []
    },
    {
      "cell_type": "markdown",
      "metadata": {
        "id": "OOvayGM5JLha",
        "colab_type": "text"
      },
      "source": [
        "A continuación se presenta el clasificador fuerte que se obtendrá a partir de Adaboost"
      ]
    },
    {
      "cell_type": "code",
      "metadata": {
        "id": "8RtUqgyOGF0T",
        "colab_type": "code",
        "colab": {}
      },
      "source": [
        "def strong_classify_image(classifier,weak_apply, X):\n",
        "    [h,alpha] = classifier\n",
        "    N = len(X)\n",
        "        \n",
        "    fuerte = []\n",
        "    for i in range(len(alpha)):\n",
        "        h_res = weak_apply(h[i],X)\n",
        "        if (i==0):\n",
        "            fuerte = np.double(alpha[i] * h_res)\n",
        "        else:\n",
        "            fuerte = fuerte + np.double(alpha[i] * h_res)\n",
        "        #from IPython.core.debugger import Tracer; Tracer()()\n",
        "        \n",
        "    f = np.sign(fuerte)\n",
        "    return f\n",
        "        \n",
        "    "
      ],
      "execution_count": 0,
      "outputs": []
    },
    {
      "cell_type": "markdown",
      "metadata": {
        "id": "x7pctdMsGMK2",
        "colab_type": "text"
      },
      "source": [
        "## Definición de los clasificadores débiles como umbral para un pixel de la imagen"
      ]
    },
    {
      "cell_type": "code",
      "metadata": {
        "id": "KzzkWv0LGLPF",
        "colab_type": "code",
        "colab": {}
      },
      "source": [
        "def generate_weak_threshold():\n",
        "    ht = np.zeros(3)\n",
        "    ht[0] = np.random.randint(28*28) #Pos. Img.\n",
        "    ht[1] = np.random.rand(1)*256    #Valor\n",
        "    ht[2] = np.sign(np.random.rand(1)*2-1)  #Direccion umbral\n",
        "    return ht;\n",
        "\n",
        "def apply_weak_threshold(ht,X):\n",
        "    k = int(ht[0])\n",
        "    if(ht[-1]>0):\n",
        "        t = X[:,k]>ht[1]\n",
        "    else: \n",
        "        t = X[:,k]<=ht[1]\n",
        "    \n",
        "    #Verifico que las condiciones se cumplan en todas las\n",
        "    #dimensiones (true si cumple, false si no)\n",
        "    t_all = np.int16(t)\n",
        "    t_all[np.where(t_all == 0)] = -1\n",
        "    \n",
        "    return t_all\n",
        "\n",
        "def error_weak_threshold(ht,X,Y,D=1):\n",
        "    k = int(ht[0])\n",
        "    if(ht[-1]>0):\n",
        "        t = X[:,k]>ht[1]\n",
        "    else: \n",
        "        t = X[:,k]<=ht[1]\n",
        "        \n",
        "    \n",
        "    #Verifico que las condiciones se cumplan en todas las dimensiones \n",
        "    # (true si cumple, false si no)\n",
        "    t_all = np.int16(t)\n",
        "    t_all[np.where(t_all == 0)] = -1\n",
        "    \n",
        "    #Obtengo el error con respecto a Y\n",
        "    errv = np.int64(t_all != Y)\n",
        "    errs = np.sum(errv * D)\n",
        "    \n",
        "    return [errs,errv]"
      ],
      "execution_count": 0,
      "outputs": []
    },
    {
      "cell_type": "code",
      "metadata": {
        "id": "5zbVNTy3GT2e",
        "colab_type": "code",
        "outputId": "e9b7c177-c097-4d6c-8456-d375b9ada5b6",
        "colab": {
          "base_uri": "https://localhost:8080/",
          "height": 35
        }
      },
      "source": [
        "ht = generate_weak_threshold()\n",
        "ht"
      ],
      "execution_count": 22,
      "outputs": [
        {
          "output_type": "execute_result",
          "data": {
            "text/plain": [
              "array([237.        , 129.52331333,  -1.        ])"
            ]
          },
          "metadata": {
            "tags": []
          },
          "execution_count": 22
        }
      ]
    },
    {
      "cell_type": "markdown",
      "metadata": {
        "id": "qrnC9ehSMjjK",
        "colab_type": "text"
      },
      "source": [
        "## Definición de los clasificadores débiles como plano\n",
        "Para hacer por el alumnado"
      ]
    },
    {
      "cell_type": "code",
      "metadata": {
        "id": "r8y0TLle-gwC",
        "colab_type": "code",
        "colab": {}
      },
      "source": [
        "import random\n",
        "\n",
        "def generateVector():#funcion que genera un array de 28*28 que contiene numero de 0 a 255\n",
        "  vector = []\n",
        "  for i in range(28*28):\n",
        "    rand = random.randint(0,255)\n",
        "    vector.append(rand)\n",
        "  return(vector)\n",
        "\n",
        "def generateOnes():#funcion que genera un array de 28*28 que contiene 1s y -1s\n",
        "  vector = []\n",
        "  for i in range(28*28):\n",
        "    rand = random.randint(-1,1)\n",
        "    if rand == 0:\n",
        "      rand = -1      \n",
        "    vector.append(rand)\n",
        "  return(vector)\n",
        "  \n",
        "def generateHiperplane():#Funcion que genera un hiperplano\n",
        "  C = 0.0\n",
        "  vectorUnos = generateOnes() #Generamos el vector de tamaño 28*28 de 1s y -1s aleatorios\n",
        "  vector = generateVector() #Generamos el vector de tamaño 28*28 de 0 a 255 aleatorios\n",
        "  \n",
        "  for i in range(28*28):\n",
        "    C += vectorUnos[i] * vector[i] #Calculamos C\n",
        "  \n",
        "  hiperplano = [vectorUnos, vector, C] #[ 1s y -1s, 0 - 255, termino libre C]\n",
        "  \n",
        "  ht = np.zeros((28*28, 3))# Creamos un array\n",
        "  for i in range(28*28):\n",
        "    ht[i,0] = hiperplano[0][i]\n",
        "    ht[i,1] = hiperplano[1][i]\n",
        "    ht[i,2] = hiperplano[2]\n",
        "    \n",
        "  print(ht)\n",
        "  \n",
        "  return ht\n",
        "\n",
        "def compruebaPos(imagen, hiperplano):#Funcion que comprueba la posición de una imagen con respecto a un hiperplano\n",
        "  res = 0.0 #Inicializamos el resultado a 0\n",
        "  pos = 0 # POsicion de la imagen con respecto al\n",
        "  \n",
        "  for i in range(len(imagen)):\n",
        "    res += hiperplano[0][i] * imagen[i]\n",
        "  pos = res - hiperplano[3]#calculamos la posicion restandole el termino libre C al resultado obtenido anteriormente\n",
        "  \n",
        "  if pos < 0 :\n",
        "    return -1\n",
        "  else:\n",
        "    return 1\n",
        "\n",
        "def numErroresHiperplano(hiperplano, imagenes, tipo, D=1): #Dada una serie de imagenes, un hiperplano y un tipo devuelve la cantidad de errores cometidos por el hiperplano\n",
        "  cantErrores = 0 \n",
        "  \n",
        "  for i in range(len(imagenes)):\n",
        "    res = compruebaPos(imagenes[i], hiperplano) # Comprobamos de qué tipo nos dice el hiperplano que es la imagen que le pasamos\n",
        "    if res != tipo: # Si el resultado fuera distinto al tipo que verdaderamente es la imagen\n",
        "      cantErrores += 1 # Aumentamos el error\n",
        "  \n",
        "  \n",
        "  errs = np.sum(cantErrores * D)\n",
        "    \n",
        "  return [errs,cantErrores]\n",
        "  \n",
        "  \n",
        "  \n"
      ],
      "execution_count": 0,
      "outputs": []
    },
    {
      "cell_type": "markdown",
      "metadata": {
        "id": "z4MswN1QGoTA",
        "colab_type": "text"
      },
      "source": [
        "# Entrenamiento para las primeras 4000 imágenes\n",
        "Obtengo un clasificador fuerte por conjunto. En esta implementación se gastan las 10 clases de la base de datos al completo (no las 8 que se gastan en la práctica de Java), con lo que los resultados pueden variar sobre esta. Es sencillo utilizar los mismos conjuntos de la implementación java si se desea..."
      ]
    },
    {
      "cell_type": "code",
      "metadata": {
        "id": "n-xbYnXdGqaJ",
        "colab_type": "code",
        "outputId": "d714eb29-17b6-4c12-e533-1a36152b4118",
        "colab": {
          "base_uri": "https://localhost:8080/",
          "height": 484
        }
      },
      "source": [
        "num_samples = 4000\n",
        "f = []\n",
        "for i in range(7):\n",
        "    Y = np.zeros(num_samples)\n",
        "    v_digit = y_train[0:num_samples]==i\n",
        "    v_else = y_train[0:num_samples]!=i\n",
        "    Y[v_digit] = 1\n",
        "    Y[v_else] = -1\n",
        "    X = x_train[0:num_samples].reshape(num_samples,28*28)\n",
        "    \n",
        "    #Obtengo el clasificador fuerte para el conjunto i\n",
        "    #f.append(adaboost(X,Y,100,1000,generate_weak_threshold,error_weak_threshold))\n",
        "    f.append(adaboost(X,Y,100,1000,generateHiperplane(),numErroresHiperplano))\n",
        "    print(\".\")"
      ],
      "execution_count": 38,
      "outputs": [
        {
          "output_type": "stream",
          "text": [
            "[[-1.0000e+00  4.1000e+01 -4.2164e+04]\n",
            " [ 1.0000e+00  2.3900e+02 -4.2164e+04]\n",
            " [-1.0000e+00  1.0000e+01 -4.2164e+04]\n",
            " ...\n",
            " [-1.0000e+00  1.7200e+02 -4.2164e+04]\n",
            " [-1.0000e+00  1.9800e+02 -4.2164e+04]\n",
            " [-1.0000e+00  2.0000e+01 -4.2164e+04]]\n"
          ],
          "name": "stdout"
        },
        {
          "output_type": "error",
          "ename": "TypeError",
          "evalue": "ignored",
          "traceback": [
            "\u001b[0;31m---------------------------------------------------------------------------\u001b[0m",
            "\u001b[0;31mTypeError\u001b[0m                                 Traceback (most recent call last)",
            "\u001b[0;32m<ipython-input-38-8babe0acabdf>\u001b[0m in \u001b[0;36m<module>\u001b[0;34m()\u001b[0m\n\u001b[1;32m     11\u001b[0m     \u001b[0;31m#Obtengo el clasificador fuerte para el conjunto i\u001b[0m\u001b[0;34m\u001b[0m\u001b[0;34m\u001b[0m\u001b[0;34m\u001b[0m\u001b[0m\n\u001b[1;32m     12\u001b[0m     \u001b[0;31m#f.append(adaboost(X,Y,100,1000,generate_weak_threshold,error_weak_threshold))\u001b[0m\u001b[0;34m\u001b[0m\u001b[0;34m\u001b[0m\u001b[0;34m\u001b[0m\u001b[0m\n\u001b[0;32m---> 13\u001b[0;31m     \u001b[0mf\u001b[0m\u001b[0;34m.\u001b[0m\u001b[0mappend\u001b[0m\u001b[0;34m(\u001b[0m\u001b[0madaboost\u001b[0m\u001b[0;34m(\u001b[0m\u001b[0mX\u001b[0m\u001b[0;34m,\u001b[0m\u001b[0mY\u001b[0m\u001b[0;34m,\u001b[0m\u001b[0;36m100\u001b[0m\u001b[0;34m,\u001b[0m\u001b[0;36m1000\u001b[0m\u001b[0;34m,\u001b[0m\u001b[0mgenerateHiperplane\u001b[0m\u001b[0;34m(\u001b[0m\u001b[0;34m)\u001b[0m\u001b[0;34m,\u001b[0m\u001b[0mnumErroresHiperplano\u001b[0m\u001b[0;34m)\u001b[0m\u001b[0;34m)\u001b[0m\u001b[0;34m\u001b[0m\u001b[0;34m\u001b[0m\u001b[0m\n\u001b[0m\u001b[1;32m     14\u001b[0m     \u001b[0mprint\u001b[0m\u001b[0;34m(\u001b[0m\u001b[0;34m\".\"\u001b[0m\u001b[0;34m)\u001b[0m\u001b[0;34m\u001b[0m\u001b[0;34m\u001b[0m\u001b[0m\n",
            "\u001b[0;32m<ipython-input-19-d33fc0165767>\u001b[0m in \u001b[0;36madaboost\u001b[0;34m(X, Y, T, random_trainer_iterations, weak_generator, weak_error)\u001b[0m\n\u001b[1;32m     11\u001b[0m     \u001b[0;32mfor\u001b[0m \u001b[0mi\u001b[0m \u001b[0;32min\u001b[0m \u001b[0mrange\u001b[0m\u001b[0;34m(\u001b[0m\u001b[0mT\u001b[0m\u001b[0;34m)\u001b[0m\u001b[0;34m:\u001b[0m\u001b[0;34m\u001b[0m\u001b[0;34m\u001b[0m\u001b[0m\n\u001b[1;32m     12\u001b[0m         \u001b[0;32mfor\u001b[0m \u001b[0mrti\u001b[0m \u001b[0;32min\u001b[0m \u001b[0mrange\u001b[0m\u001b[0;34m(\u001b[0m\u001b[0mrandom_trainer_iterations\u001b[0m\u001b[0;34m)\u001b[0m\u001b[0;34m:\u001b[0m\u001b[0;34m\u001b[0m\u001b[0;34m\u001b[0m\u001b[0m\n\u001b[0;32m---> 13\u001b[0;31m             \u001b[0mh_tmp\u001b[0m \u001b[0;34m=\u001b[0m \u001b[0mweak_generator\u001b[0m\u001b[0;34m(\u001b[0m\u001b[0;34m)\u001b[0m\u001b[0;34m;\u001b[0m\u001b[0;34m\u001b[0m\u001b[0;34m\u001b[0m\u001b[0m\n\u001b[0m\u001b[1;32m     14\u001b[0m             \u001b[0;34m[\u001b[0m\u001b[0merr_tmp\u001b[0m\u001b[0;34m,\u001b[0m\u001b[0my_tmp\u001b[0m\u001b[0;34m]\u001b[0m \u001b[0;34m=\u001b[0m \u001b[0mweak_error\u001b[0m\u001b[0;34m(\u001b[0m\u001b[0mh_tmp\u001b[0m\u001b[0;34m,\u001b[0m\u001b[0mX\u001b[0m\u001b[0;34m,\u001b[0m\u001b[0mY\u001b[0m\u001b[0;34m,\u001b[0m\u001b[0mD\u001b[0m\u001b[0;34m)\u001b[0m\u001b[0;34m\u001b[0m\u001b[0;34m\u001b[0m\u001b[0m\n\u001b[1;32m     15\u001b[0m             \u001b[0;32mif\u001b[0m\u001b[0;34m(\u001b[0m\u001b[0merr_tmp\u001b[0m\u001b[0;34m<\u001b[0m\u001b[0merr\u001b[0m\u001b[0;34m[\u001b[0m\u001b[0mi\u001b[0m\u001b[0;34m]\u001b[0m\u001b[0;34m)\u001b[0m\u001b[0;34m:\u001b[0m\u001b[0;34m\u001b[0m\u001b[0;34m\u001b[0m\u001b[0m\n",
            "\u001b[0;31mTypeError\u001b[0m: 'numpy.ndarray' object is not callable"
          ]
        }
      ]
    },
    {
      "cell_type": "markdown",
      "metadata": {
        "id": "HtPZp_hYGz-D",
        "colab_type": "text"
      },
      "source": [
        "Aplico el clasificador fuerte a todas las imágenes y obtengo el conjunto de clasificación"
      ]
    },
    {
      "cell_type": "code",
      "metadata": {
        "id": "pOkgTKh5G00R",
        "colab_type": "code",
        "colab": {}
      },
      "source": [
        "num_samples = 60000\n",
        "r = []\n",
        "for i in range(7):\n",
        "    Y = np.zeros(num_samples)\n",
        "    v_digit = y_train[0:num_samples]==i\n",
        "    v_else = y_train[0:num_samples]!=i\n",
        "    Y[v_digit] = 1\n",
        "    Y[v_else] = -1\n",
        "    X = x_train[0:num_samples].reshape(num_samples,28*28)\n",
        "    r.append(strong_classify_image(f[i],apply_weak_threshold,X))"
      ],
      "execution_count": 0,
      "outputs": []
    },
    {
      "cell_type": "code",
      "metadata": {
        "id": "gHtvStiuG3rd",
        "colab_type": "code",
        "outputId": "c1bb9c89-8ef8-40e6-df67-2d59dd8a10b4",
        "colab": {
          "base_uri": "https://localhost:8080/",
          "height": 35
        }
      },
      "source": [
        "r_all = np.vstack([r[0],r[1],r[2],r[3],r[4],r[5],r[6]])#,r[7],r[8],r[9]])\n",
        "r_all.shape"
      ],
      "execution_count": 0,
      "outputs": [
        {
          "output_type": "execute_result",
          "data": {
            "text/plain": [
              "(7, 60000)"
            ]
          },
          "metadata": {
            "tags": []
          },
          "execution_count": 92
        }
      ]
    },
    {
      "cell_type": "markdown",
      "metadata": {
        "id": "peEsxIsgG9w-",
        "colab_type": "text"
      },
      "source": [
        "Transformo el vector de -1 y 1 a conjunto"
      ]
    },
    {
      "cell_type": "code",
      "metadata": {
        "id": "vTzdl7m1G6wS",
        "colab_type": "code",
        "colab": {}
      },
      "source": [
        "r_digits = []\n",
        "for i in range(r_all.shape[1]):\n",
        "    td = np.where(r_all[:,i]==1)\n",
        "    if(td[0].size==0):\n",
        "        rd = -1\n",
        "    else:\n",
        "        rd = td[0][0]\n",
        "    r_digits.append(rd)\n",
        "\n",
        "r_digits = np.asarray(r_digits)"
      ],
      "execution_count": 0,
      "outputs": []
    },
    {
      "cell_type": "code",
      "metadata": {
        "id": "7Rwu30E_HAv1",
        "colab_type": "code",
        "outputId": "188c5967-8f1b-4341-f6c9-72dbd051d86e",
        "colab": {
          "base_uri": "https://localhost:8080/",
          "height": 35
        }
      },
      "source": [
        "r_digits"
      ],
      "execution_count": 0,
      "outputs": [
        {
          "output_type": "execute_result",
          "data": {
            "text/plain": [
              "array([-1,  0,  0, ...,  3,  0,  5])"
            ]
          },
          "metadata": {
            "tags": []
          },
          "execution_count": 94
        }
      ]
    },
    {
      "cell_type": "markdown",
      "metadata": {
        "id": "-m7fdYAqNL7h",
        "colab_type": "text"
      },
      "source": [
        "Y obtengo la tasa de aciertos"
      ]
    },
    {
      "cell_type": "code",
      "metadata": {
        "id": "7AA5jvi4NOHZ",
        "colab_type": "code",
        "outputId": "38c3403f-9d9d-4f69-8841-3e9c931aa060",
        "colab": {
          "base_uri": "https://localhost:8080/",
          "height": 35
        }
      },
      "source": [
        "Y_d = y_train[0:num_samples]\n",
        "correct_digits = Y_d == r_digits\n",
        "np.sum(correct_digits)/(num_samples*1.0)"
      ],
      "execution_count": 0,
      "outputs": [
        {
          "output_type": "execute_result",
          "data": {
            "text/plain": [
              "0.47673333333333334"
            ]
          },
          "metadata": {
            "tags": []
          },
          "execution_count": 95
        }
      ]
    },
    {
      "cell_type": "markdown",
      "metadata": {
        "id": "Mqqx964rDL-8",
        "colab_type": "text"
      },
      "source": [
        "Creamos una gráfica donde almacenaremos los datos"
      ]
    },
    {
      "cell_type": "code",
      "metadata": {
        "id": "Y5PQXPjjDFmq",
        "colab_type": "code",
        "outputId": "0b310212-fd32-4a77-9a28-52684f12ad04",
        "colab": {
          "base_uri": "https://localhost:8080/",
          "height": 297
        }
      },
      "source": [
        "import matplotlib\n",
        "import matplotlib.pyplot as plt\n",
        "import numpy as np\n",
        "\n",
        "\n",
        "men_means, men_std = (0.07245, 0.168866, 0.359116, 0.476733, 0.483150), (0,0,0,0,0)\n",
        "women_means, women_std = (0, 0, 0, 0, 0), (0,0,0,0,0)\n",
        "\n",
        "ind = np.arange(len(men_means))  # the x locations for the groups\n",
        "width = 0.35  # the width of the bars\n",
        "\n",
        "fig, ax = plt.subplots()\n",
        "rects1 = ax.bar(ind - width/2, men_means, width, yerr=men_std,\n",
        "                label='Umbrales')\n",
        "rects2 = ax.bar(ind + width/2, women_means, width, yerr=women_std,\n",
        "                label='Hiperplanos')\n",
        "\n",
        "# Add some text for labels, title and custom x-axis tick labels, etc.\n",
        "ax.set_ylabel('Aciertos')\n",
        "ax.set_title('Comparación de la tasa de acierto entre umbrales e hiperplanos')\n",
        "ax.set_xticks(ind)\n",
        "ax.set_xticklabels(('1', '2', '5', '7', '10'))\n",
        "ax.legend()\n",
        "\n",
        "\n",
        "def autolabel(rects, xpos='center'):\n",
        "    \"\"\"\n",
        "    Attach a text label above each bar in *rects*, displaying its height.\n",
        "\n",
        "    *xpos* indicates which side to place the text w.r.t. the center of\n",
        "    the bar. It can be one of the following {'center', 'right', 'left'}.\n",
        "    \"\"\"\n",
        "\n",
        "    ha = {'center': 'center', 'right': 'left', 'left': 'right'}\n",
        "    offset = {'center': 0, 'right': 1, 'left': -1}\n",
        "\n",
        "    for rect in rects:\n",
        "        height = rect.get_height()\n",
        "        ax.annotate('{}'.format(height),\n",
        "                    xy=(rect.get_x() + rect.get_width() / 2, height),\n",
        "                    xytext=(offset[xpos]*3, 3),  # use 3 points offset\n",
        "                    textcoords=\"offset points\",  # in both directions\n",
        "                    ha=ha[xpos], va='bottom')\n",
        "\n",
        "\n",
        "autolabel(rects1, \"left\")\n",
        "autolabel(rects2, \"right\")\n",
        "\n",
        "fig.tight_layout()\n",
        "\n",
        "plt.show()"
      ],
      "execution_count": 39,
      "outputs": [
        {
          "output_type": "display_data",
          "data": {
            "image/png": "[encoded data removed]",
            "text/plain": [
              "<Figure size 432x288 with 1 Axes>"
            ]
          },
          "metadata": {
            "tags": []
          }
        }
      ]
    },
    {
      "cell_type": "markdown",
      "metadata": {
        "id": "kSM6A2HJMtz_",
        "colab_type": "text"
      },
      "source": [
        "# Experimentación\n",
        "Para hacer por el alumnado. Se valorará el uso de gráficas mediante *matplotlib*\n",
        "## Hiperplano\n",
        "### Obtener tasa de aciertos para un dígito \n",
        "### Obtener tasa de aciertos para varios dígitos\n",
        "## Umbral\n",
        "### Obtener tasa de aciertos para un dígito -> 0.07245\n",
        "![texto alternativo](https://i.imgur.com/BqlE4AW.png)\n",
        "![texto alternativo](https://i.imgur.com/LlCT8HY.png)\n",
        "\n",
        "### Obtener tasa de aciertos para varios dígitos\n",
        "### 2 dígitos\n",
        "![texto alternativo](https://i.imgur.com/Ke5Ra6m.png)\n",
        "![texto alternativo](https://i.imgur.com/Au2lYHW.png)\n",
        "\n",
        "### 5 dígitos\n",
        "![texto alternativo](https://i.imgur.com/2BQQ3UP.png)\n",
        "![texto alternativo](https://i.imgur.com/eY2FudB.png)\n",
        "\n",
        "### 7 dígitos\n",
        "![texto alternativo](https://i.imgur.com/KF5njDw.png)\n",
        "![texto alternativo](https://i.imgur.com/LoKO79e.png)\n",
        "\n",
        "### 10 dígitos\n",
        "![texto alternativo](https://i.imgur.com/CtJTP74.png)\n",
        "![texto alternativo](https://i.imgur.com/POR5OPP.png)\n",
        "\n",
        "## Comparación hiperplano vs umbral\n",
        "\n",
        "## Otras métricas"
      ]
    }
  ]
}